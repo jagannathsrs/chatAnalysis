{
 "cells": [
  {
   "cell_type": "code",
   "execution_count": null,
   "metadata": {},
   "outputs": [],
   "source": [
    "from vaderSentiment.vaderSentiment import SentimentIntensityAnalyzer\n",
    "import pandas as pd\n",
    "import plotly.plotly as py\n",
    "import plotly.graph_objs as go\n",
    "import numpy as np\n",
    "from datetime import datetime\n"
   ]
  },
  {
   "cell_type": "code",
   "execution_count": null,
   "metadata": {},
   "outputs": [],
   "source": [
    "chat=pd.read_pickle('chat_cleaned.pkl')\n",
    "\n",
    "for index in range(0,chat.TimeStamp.count()+2):\n",
    "    try:\n",
    "        chat.TimeStamp[index]=datetime.strptime(chat.TimeStamp[index], '%d/%m/%y, %H:%M').date()\n",
    "    except:\n",
    "        print (index)\n",
    "\n"
   ]
  },
  {
   "cell_type": "code",
   "execution_count": null,
   "metadata": {
    "scrolled": true
   },
   "outputs": [],
   "source": [
    "sentiment=[]"
   ]
  },
  {
   "cell_type": "code",
   "execution_count": null,
   "metadata": {},
   "outputs": [],
   "source": [
    "analyzer = SentimentIntensityAnalyzer()\n",
    "\n",
    "for message in chat['Message']:\n",
    "    \n",
    "    vs = analyzer.polarity_scores(message)\n",
    "    sentiment.append(vs['compound'])"
   ]
  },
  {
   "cell_type": "code",
   "execution_count": null,
   "metadata": {},
   "outputs": [],
   "source": [
    "len(sentiment)"
   ]
  },
  {
   "cell_type": "code",
   "execution_count": null,
   "metadata": {},
   "outputs": [],
   "source": [
    "len(chat['Message'])"
   ]
  },
  {
   "cell_type": "code",
   "execution_count": null,
   "metadata": {
    "scrolled": true
   },
   "outputs": [],
   "source": [
    "chat['Sentiment']=sentiment"
   ]
  },
  {
   "cell_type": "code",
   "execution_count": null,
   "metadata": {},
   "outputs": [],
   "source": [
    "chat"
   ]
  },
  {
   "cell_type": "code",
   "execution_count": null,
   "metadata": {},
   "outputs": [],
   "source": [
    "data = [go.Scatter(\n",
    "            x=chat.TimeStamp,\n",
    "            y=chat.Sentiment,\n",
    "            mode = 'markers',\n",
    "            marker=dict(\n",
    "                size='8',\n",
    "                color = np.random.randn(26000), #set color equal to a variable\n",
    "                colorscale='Viridis',\n",
    "                showscale=True)\n",
    "\n",
    "    )]\n",
    "\n",
    "#py.iplot(data, filename='Sentiment analysis')"
   ]
  },
  {
   "cell_type": "code",
   "execution_count": null,
   "metadata": {},
   "outputs": [],
   "source": [
    "date_senti=chat.groupby(chat.TimeStamp,as_index=False).mean()\n",
    "\n",
    "date_senti"
   ]
  },
  {
   "cell_type": "code",
   "execution_count": null,
   "metadata": {},
   "outputs": [],
   "source": [
    "data = [go.Scatter(\n",
    "            x=date_senti.TimeStamp,\n",
    "            y=date_senti.Sentiment,\n",
    "            mode='markers'\n",
    "    )]\n",
    "\n",
    "\n",
    "py.iplot(data, filename='Sentiment analysis')"
   ]
  }
 ],
 "metadata": {
  "kernelspec": {
   "display_name": "Python 3",
   "language": "python",
   "name": "python3"
  },
  "language_info": {
   "codemirror_mode": {
    "name": "ipython",
    "version": 3
   },
   "file_extension": ".py",
   "mimetype": "text/x-python",
   "name": "python",
   "nbconvert_exporter": "python",
   "pygments_lexer": "ipython3",
   "version": "3.6.4"
  }
 },
 "nbformat": 4,
 "nbformat_minor": 2
}
