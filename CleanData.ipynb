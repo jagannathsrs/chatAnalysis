{
 "cells": [
  {
   "cell_type": "code",
   "execution_count": null,
   "metadata": {},
   "outputs": [],
   "source": [
    "import pandas as pd\n",
    "import re\n",
    "import numpy as np\n",
    "import csv\n",
    "from datetime import datetime\n",
    "from collections import Counter\n",
    "import matplotlib.pyplot as plt\n",
    "import plotly.plotly as py\n",
    "import plotly.graph_objs as go\n",
    "import calendar\n",
    "import nltk\n",
    "import operator\n",
    "from nltk.corpus import stopwords\n",
    "import io"
   ]
  },
  {
   "cell_type": "code",
   "execution_count": null,
   "metadata": {},
   "outputs": [],
   "source": [
    "chat=pd.read_csv(\"chat_converted.csv\")"
   ]
  },
  {
   "cell_type": "code",
   "execution_count": null,
   "metadata": {},
   "outputs": [],
   "source": [
    "chat.drop(chat.index[0], inplace=True) #Remove the fisrt row which is \"Messages to this chat are now encrypted...\""
   ]
  },
  {
   "cell_type": "code",
   "execution_count": null,
   "metadata": {
    "scrolled": true
   },
   "outputs": [],
   "source": [
    "#Stripping unecessary characters from the dataframe\n",
    "chat['TimeStamp']=chat['TimeStamp'].str.strip('[]\\'')\n",
    "chat['User']=chat['User'].str.strip('[]\\'-')\n",
    "chat['Message']=chat['Message'].str.strip('[]')\n",
    "chat['Message']=chat['Message'].str.strip('\"\"')\n",
    "chat['Message']=chat['Message'].str.strip('[]\\':')\n",
    "\n",
    "chat.drop(chat.index[0], inplace=True)\n",
    "chat.replace(r'^\\s+$', np.nan, regex=True,inplace=True)\n",
    "\n",
    "chat.to_pickle('chat_cleaned2.pkl')"
   ]
  },
  {
   "cell_type": "code",
   "execution_count": null,
   "metadata": {},
   "outputs": [],
   "source": [
    "chat_cleaned=pd.read_pickle('chat_cleaned2.pkl')\n",
    "\n",
    "for index in range(0,chat_cleaned.TimeStamp.count()+2):\n",
    "    try:\n",
    "        chat_cleaned.TimeStamp[index]=datetime.strptime(chat_cleaned.TimeStamp[index], '%d/%m/%y, %H:%M')\n",
    "    except:\n",
    "        print (index)\n",
    "\n"
   ]
  },
  {
   "cell_type": "code",
   "execution_count": null,
   "metadata": {},
   "outputs": [],
   "source": [
    "chat_cleaned.groupby(chat_cleaned.TimeStamp)\n",
    "\n",
    "chat_cleaned.reset_index(drop=True)"
   ]
  },
  {
   "cell_type": "code",
   "execution_count": null,
   "metadata": {},
   "outputs": [],
   "source": [
    "date_freq=[]\n",
    "month_freq=[]\n",
    "hour_freq=[]\n",
    "for index in range(0,chat_cleaned.TimeStamp.count()+2):\n",
    "    try:\n",
    "        date_freq.append(str((chat_cleaned.TimeStamp[index].date())))\n",
    "        month_freq.append(str(str(calendar.month_name[chat_cleaned.TimeStamp[index].month])+' '+str(chat_cleaned.TimeStamp[index].year)))\n",
    "        hour_freq.append(str(chat_cleaned.TimeStamp[index].hour))\n",
    "    except:\n",
    "        pass\n",
    "\n"
   ]
  },
  {
   "cell_type": "code",
   "execution_count": null,
   "metadata": {},
   "outputs": [],
   "source": [
    "date_labels, date_values = zip(*Counter(date_freq).items())\n",
    "month_labels, month_values = zip(*Counter(month_freq).items())\n",
    "hour_labels, hour_values = zip(*Counter(hour_freq).items())"
   ]
  },
  {
   "cell_type": "code",
   "execution_count": null,
   "metadata": {},
   "outputs": [],
   "source": [
    "data = [go.Bar(\n",
    "            x=date_labels,\n",
    "            y=date_values\n",
    "    )]\n",
    "\n",
    "py.iplot(data, filename='WP_date_freq')"
   ]
  },
  {
   "cell_type": "code",
   "execution_count": null,
   "metadata": {},
   "outputs": [],
   "source": [
    "data = [go.Bar(\n",
    "            x=month_labels,\n",
    "            y=month_values\n",
    "    )]\n",
    "\n",
    "py.iplot(data, filename='WP_month_freq')"
   ]
  },
  {
   "cell_type": "code",
   "execution_count": null,
   "metadata": {},
   "outputs": [],
   "source": [
    "data = [go.Bar(\n",
    "            x=hour_labels,\n",
    "            y=hour_values\n",
    "    )]\n",
    "\n",
    "\n",
    "py.iplot(data, filename='WP_hour_freq')\n"
   ]
  },
  {
   "cell_type": "code",
   "execution_count": null,
   "metadata": {},
   "outputs": [],
   "source": [
    "for message in chat_cleaned.Message:\n",
    "    message=message.encode('utf8')\n",
    "    \n",
    "np.savez('cor',chat_cleaned.Message)"
   ]
  },
  {
   "cell_type": "code",
   "execution_count": null,
   "metadata": {},
   "outputs": [],
   "source": [
    "chat_cleaned.Message[3].encode('utf8')"
   ]
  }
 ],
 "metadata": {
  "kernelspec": {
   "display_name": "Python 3",
   "language": "python",
   "name": "python3"
  },
  "language_info": {
   "codemirror_mode": {
    "name": "ipython",
    "version": 3
   },
   "file_extension": ".py",
   "mimetype": "text/x-python",
   "name": "python",
   "nbconvert_exporter": "python",
   "pygments_lexer": "ipython3",
   "version": "3.6.4"
  }
 },
 "nbformat": 4,
 "nbformat_minor": 2
}
