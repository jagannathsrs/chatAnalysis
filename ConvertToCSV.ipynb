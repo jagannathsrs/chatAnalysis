{
 "cells": [
  {
   "cell_type": "code",
   "execution_count": null,
   "metadata": {},
   "outputs": [],
   "source": [
    "import pandas as pd\n",
    "import re\n",
    "import numpy as np\n",
    "import csv"
   ]
  },
  {
   "cell_type": "code",
   "execution_count": null,
   "metadata": {},
   "outputs": [],
   "source": [
    "f=open('chat.txt','r',encoding=\"utf8\") #Repalce chat.txt with the file mailed from whatsapp\n",
    "content=f.readlines() # reading the content line by line"
   ]
  },
  {
   "cell_type": "code",
   "execution_count": null,
   "metadata": {},
   "outputs": [],
   "source": [
    "content #Display the content"
   ]
  },
  {
   "cell_type": "code",
   "execution_count": null,
   "metadata": {},
   "outputs": [],
   "source": [
    "data=[['TimeStamp','User','Message']] #Header for CSV file\n",
    "myFile = open('chat_converted.csv', 'w',encoding=\"utf8\")  #Creating a new CSV file\n",
    "writer = csv.writer(myFile)\n",
    "type(data)\n",
    "writer.writerows(data) #Appending header "
   ]
  },
  {
   "cell_type": "code",
   "execution_count": null,
   "metadata": {},
   "outputs": [],
   "source": [
    "regexTS=re.compile((r'\\d\\d/\\d\\d/\\d\\d, \\d\\d:\\d\\d')) #Matches 08/10/16, 05:11\n",
    "regexUser=re.compile(r'- [A-Z]*[a-z]*') #Matches first name of user\n",
    "regexMsg=re.compile(': .*') # Matches message after :\n",
    "\n",
    "myChat=[]\n",
    "\n",
    "tsPrevious=[]\n",
    "userPrevious=[]\n",
    "for line in content:\n",
    "    \n",
    "    if line=='\\n':\n",
    "        pass\n",
    "    \n",
    "    elif regexMsg.findall(line)=='<Media omitted>':\n",
    "        pass\n",
    "    \n",
    "    elif regexTS.search(line): #Goes inside when a line with a timestamp is found\n",
    "        timestamp=regexTS.findall(line)\n",
    "        user=regexUser.findall(line)\n",
    "        message=regexMsg.findall(line)\n",
    "\n",
    "        tsPrevious= timestamp\n",
    "        userPrevious=user\n",
    "        \n",
    "        myChat=[(timestamp,user,message)] #creating row with timestamp, user and message\n",
    "\n",
    "        writer = csv.writer(myFile)\n",
    "        writer.writerows(myChat) #appending to CSV file row by row\n",
    "    \n",
    "    else: #Goes here when line starts without a timestamp\n",
    "        timestamp= tsPrevious\n",
    "        user= userPrevious\n",
    "        message= line\n",
    "        \n",
    "        myChat=[(timestamp,user,message)] #creating row with timestamp, user and message\n",
    "        writer = csv.writer(myFile)\n",
    "        writer.writerows(myChat) #appending to CSV file row by row\n",
    "    \n",
    "myFile.close()"
   ]
  }
 ],
 "metadata": {
  "kernelspec": {
   "display_name": "Python 3",
   "language": "python",
   "name": "python3"
  },
  "language_info": {
   "codemirror_mode": {
    "name": "ipython",
    "version": 3
   },
   "file_extension": ".py",
   "mimetype": "text/x-python",
   "name": "python",
   "nbconvert_exporter": "python",
   "pygments_lexer": "ipython3",
   "version": "3.6.4"
  }
 },
 "nbformat": 4,
 "nbformat_minor": 2
}
